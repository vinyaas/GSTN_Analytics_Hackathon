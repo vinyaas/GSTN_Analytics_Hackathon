{
 "cells": [
  {
   "cell_type": "code",
   "execution_count": 249,
   "metadata": {},
   "outputs": [],
   "source": [
    "import pandas as pd \n",
    "from sklearn.tree import DecisionTreeClassifier\n",
    "from sklearn.ensemble import RandomForestClassifier, AdaBoostClassifier,GradientBoostingClassifier\n",
    "from sklearn.impute import SimpleImputer\n",
    "import matplotlib.pyplot as plt\n",
    "import seaborn as sns\n",
    "from sklearn.preprocessing import RobustScaler , MinMaxScaler\n",
    "from sklearn.feature_selection import RFE\n",
    "from sklearn.linear_model import LogisticRegression\n",
    "from sklearn.decomposition import PCA\n",
    "from sklearn.metrics import accuracy_score , f1_score , precision_score , recall_score , roc_auc_score \n",
    "import time\n",
    "import optuna\n",
    "from sklearn.model_selection import cross_val_score\n"
   ]
  },
  {
   "cell_type": "code",
   "execution_count": 250,
   "metadata": {},
   "outputs": [],
   "source": [
    "#reading the datasets\n",
    "pd.reset_option('display.max_columns')\n",
    "x_train = pd.read_csv('../data/X_Train_Data_Input.csv')\n",
    "y_train = pd.read_csv('../data/Y_Train_Data_Target.csv')\n",
    "x_test = pd.read_csv('../data/X_Test_Data_Input.csv')\n",
    "y_test = pd.read_csv('../data/Y_Test_Data_Target.csv')"
   ]
  },
  {
   "cell_type": "code",
   "execution_count": 251,
   "metadata": {},
   "outputs": [
    {
     "name": "stdout",
     "output_type": "stream",
     "text": [
      "(785133, 23)\n"
     ]
    },
    {
     "data": {
      "text/html": [
       "<div>\n",
       "<style scoped>\n",
       "    .dataframe tbody tr th:only-of-type {\n",
       "        vertical-align: middle;\n",
       "    }\n",
       "\n",
       "    .dataframe tbody tr th {\n",
       "        vertical-align: top;\n",
       "    }\n",
       "\n",
       "    .dataframe thead th {\n",
       "        text-align: right;\n",
       "    }\n",
       "</style>\n",
       "<table border=\"1\" class=\"dataframe\">\n",
       "  <thead>\n",
       "    <tr style=\"text-align: right;\">\n",
       "      <th></th>\n",
       "      <th>ID</th>\n",
       "      <th>Column0</th>\n",
       "      <th>Column1</th>\n",
       "      <th>Column2</th>\n",
       "      <th>Column3</th>\n",
       "      <th>Column4</th>\n",
       "      <th>Column5</th>\n",
       "      <th>Column6</th>\n",
       "      <th>Column7</th>\n",
       "      <th>Column8</th>\n",
       "      <th>...</th>\n",
       "      <th>Column12</th>\n",
       "      <th>Column13</th>\n",
       "      <th>Column14</th>\n",
       "      <th>Column15</th>\n",
       "      <th>Column16</th>\n",
       "      <th>Column17</th>\n",
       "      <th>Column18</th>\n",
       "      <th>Column19</th>\n",
       "      <th>Column20</th>\n",
       "      <th>Column21</th>\n",
       "    </tr>\n",
       "  </thead>\n",
       "  <tbody>\n",
       "    <tr>\n",
       "      <th>0</th>\n",
       "      <td>ad1a67e4cbddc767a3456b0d94299b9e</td>\n",
       "      <td>2.0</td>\n",
       "      <td>2495</td>\n",
       "      <td>3726.0</td>\n",
       "      <td>0.678139</td>\n",
       "      <td>0.701403</td>\n",
       "      <td>-0.007468</td>\n",
       "      <td>0.434190</td>\n",
       "      <td>-0.015603</td>\n",
       "      <td>0.606265</td>\n",
       "      <td>...</td>\n",
       "      <td>0</td>\n",
       "      <td>0</td>\n",
       "      <td>0.001351</td>\n",
       "      <td>0.00339</td>\n",
       "      <td>0.0</td>\n",
       "      <td>0</td>\n",
       "      <td>0.0</td>\n",
       "      <td>0</td>\n",
       "      <td>0</td>\n",
       "      <td>0</td>\n",
       "    </tr>\n",
       "    <tr>\n",
       "      <th>1</th>\n",
       "      <td>7246d2f76ac0c217ec25e72ea5f014cb</td>\n",
       "      <td>0.0</td>\n",
       "      <td>2495</td>\n",
       "      <td>3454.0</td>\n",
       "      <td>0.452580</td>\n",
       "      <td>0.701403</td>\n",
       "      <td>-0.007468</td>\n",
       "      <td>1.554998</td>\n",
       "      <td>-0.015574</td>\n",
       "      <td>0.329946</td>\n",
       "      <td>...</td>\n",
       "      <td>0</td>\n",
       "      <td>0</td>\n",
       "      <td>0.001351</td>\n",
       "      <td>0.00339</td>\n",
       "      <td>0.0</td>\n",
       "      <td>0</td>\n",
       "      <td>0.0</td>\n",
       "      <td>0</td>\n",
       "      <td>0</td>\n",
       "      <td>0</td>\n",
       "    </tr>\n",
       "    <tr>\n",
       "      <th>2</th>\n",
       "      <td>22ba388e7dd14c13342c49e75fc29dda</td>\n",
       "      <td>2.0</td>\n",
       "      <td>2495</td>\n",
       "      <td>4543.0</td>\n",
       "      <td>-1.577453</td>\n",
       "      <td>-1.429540</td>\n",
       "      <td>-0.007469</td>\n",
       "      <td>-0.407939</td>\n",
       "      <td>-0.015607</td>\n",
       "      <td>-0.774979</td>\n",
       "      <td>...</td>\n",
       "      <td>1</td>\n",
       "      <td>1</td>\n",
       "      <td>0.001351</td>\n",
       "      <td>0.00339</td>\n",
       "      <td>0.0</td>\n",
       "      <td>0</td>\n",
       "      <td>0.0</td>\n",
       "      <td>0</td>\n",
       "      <td>0</td>\n",
       "      <td>0</td>\n",
       "    </tr>\n",
       "  </tbody>\n",
       "</table>\n",
       "<p>3 rows × 23 columns</p>\n",
       "</div>"
      ],
      "text/plain": [
       "                                 ID  Column0  Column1  Column2   Column3  \\\n",
       "0  ad1a67e4cbddc767a3456b0d94299b9e      2.0     2495   3726.0  0.678139   \n",
       "1  7246d2f76ac0c217ec25e72ea5f014cb      0.0     2495   3454.0  0.452580   \n",
       "2  22ba388e7dd14c13342c49e75fc29dda      2.0     2495   4543.0 -1.577453   \n",
       "\n",
       "    Column4   Column5   Column6   Column7   Column8  ...  Column12  Column13  \\\n",
       "0  0.701403 -0.007468  0.434190 -0.015603  0.606265  ...         0         0   \n",
       "1  0.701403 -0.007468  1.554998 -0.015574  0.329946  ...         0         0   \n",
       "2 -1.429540 -0.007469 -0.407939 -0.015607 -0.774979  ...         1         1   \n",
       "\n",
       "   Column14  Column15  Column16  Column17  Column18  Column19  Column20  \\\n",
       "0  0.001351   0.00339       0.0         0       0.0         0         0   \n",
       "1  0.001351   0.00339       0.0         0       0.0         0         0   \n",
       "2  0.001351   0.00339       0.0         0       0.0         0         0   \n",
       "\n",
       "   Column21  \n",
       "0         0  \n",
       "1         0  \n",
       "2         0  \n",
       "\n",
       "[3 rows x 23 columns]"
      ]
     },
     "execution_count": 251,
     "metadata": {},
     "output_type": "execute_result"
    }
   ],
   "source": [
    "print(x_train.shape)\n",
    "x_train.head(3)"
   ]
  },
  {
   "cell_type": "code",
   "execution_count": 252,
   "metadata": {},
   "outputs": [
    {
     "name": "stdout",
     "output_type": "stream",
     "text": [
      "(261712, 23)\n"
     ]
    },
    {
     "data": {
      "text/html": [
       "<div>\n",
       "<style scoped>\n",
       "    .dataframe tbody tr th:only-of-type {\n",
       "        vertical-align: middle;\n",
       "    }\n",
       "\n",
       "    .dataframe tbody tr th {\n",
       "        vertical-align: top;\n",
       "    }\n",
       "\n",
       "    .dataframe thead th {\n",
       "        text-align: right;\n",
       "    }\n",
       "</style>\n",
       "<table border=\"1\" class=\"dataframe\">\n",
       "  <thead>\n",
       "    <tr style=\"text-align: right;\">\n",
       "      <th></th>\n",
       "      <th>ID</th>\n",
       "      <th>Column0</th>\n",
       "      <th>Column1</th>\n",
       "      <th>Column2</th>\n",
       "      <th>Column3</th>\n",
       "      <th>Column4</th>\n",
       "      <th>Column5</th>\n",
       "      <th>Column6</th>\n",
       "      <th>Column7</th>\n",
       "      <th>Column8</th>\n",
       "      <th>...</th>\n",
       "      <th>Column12</th>\n",
       "      <th>Column13</th>\n",
       "      <th>Column14</th>\n",
       "      <th>Column15</th>\n",
       "      <th>Column16</th>\n",
       "      <th>Column17</th>\n",
       "      <th>Column18</th>\n",
       "      <th>Column19</th>\n",
       "      <th>Column20</th>\n",
       "      <th>Column21</th>\n",
       "    </tr>\n",
       "  </thead>\n",
       "  <tbody>\n",
       "    <tr>\n",
       "      <th>0</th>\n",
       "      <td>07cf2025382f6325b316e128b1b90999</td>\n",
       "      <td>1.0</td>\n",
       "      <td>1986</td>\n",
       "      <td>53.0</td>\n",
       "      <td>0.678139</td>\n",
       "      <td>0.701403</td>\n",
       "      <td>-0.007469</td>\n",
       "      <td>-0.407939</td>\n",
       "      <td>-0.015607</td>\n",
       "      <td>0.554860</td>\n",
       "      <td>...</td>\n",
       "      <td>1</td>\n",
       "      <td>1</td>\n",
       "      <td>0.001351</td>\n",
       "      <td>0.00339</td>\n",
       "      <td>0.0</td>\n",
       "      <td>0</td>\n",
       "      <td>0.0</td>\n",
       "      <td>0</td>\n",
       "      <td>0</td>\n",
       "      <td>0</td>\n",
       "    </tr>\n",
       "    <tr>\n",
       "      <th>1</th>\n",
       "      <td>eb972eb3a1f8d0d1a13f45e7c07d37d4</td>\n",
       "      <td>2.0</td>\n",
       "      <td>1579</td>\n",
       "      <td>12.0</td>\n",
       "      <td>0.678139</td>\n",
       "      <td>0.701403</td>\n",
       "      <td>-0.007468</td>\n",
       "      <td>-0.407939</td>\n",
       "      <td>-0.015607</td>\n",
       "      <td>0.142149</td>\n",
       "      <td>...</td>\n",
       "      <td>1</td>\n",
       "      <td>0</td>\n",
       "      <td>0.001351</td>\n",
       "      <td>0.00339</td>\n",
       "      <td>0.0</td>\n",
       "      <td>0</td>\n",
       "      <td>0.0</td>\n",
       "      <td>0</td>\n",
       "      <td>0</td>\n",
       "      <td>0</td>\n",
       "    </tr>\n",
       "    <tr>\n",
       "      <th>2</th>\n",
       "      <td>ee35e164b3ddc25a9f40243b81ad290d</td>\n",
       "      <td>0.0</td>\n",
       "      <td>898</td>\n",
       "      <td>3817.0</td>\n",
       "      <td>-2.028572</td>\n",
       "      <td>-1.855728</td>\n",
       "      <td>NaN</td>\n",
       "      <td>-0.407939</td>\n",
       "      <td>-0.015607</td>\n",
       "      <td>-0.774979</td>\n",
       "      <td>...</td>\n",
       "      <td>0</td>\n",
       "      <td>0</td>\n",
       "      <td>NaN</td>\n",
       "      <td>0.00339</td>\n",
       "      <td>0.0</td>\n",
       "      <td>0</td>\n",
       "      <td>0.0</td>\n",
       "      <td>0</td>\n",
       "      <td>0</td>\n",
       "      <td>0</td>\n",
       "    </tr>\n",
       "  </tbody>\n",
       "</table>\n",
       "<p>3 rows × 23 columns</p>\n",
       "</div>"
      ],
      "text/plain": [
       "                                 ID  Column0  Column1  Column2   Column3  \\\n",
       "0  07cf2025382f6325b316e128b1b90999      1.0     1986     53.0  0.678139   \n",
       "1  eb972eb3a1f8d0d1a13f45e7c07d37d4      2.0     1579     12.0  0.678139   \n",
       "2  ee35e164b3ddc25a9f40243b81ad290d      0.0      898   3817.0 -2.028572   \n",
       "\n",
       "    Column4   Column5   Column6   Column7   Column8  ...  Column12  Column13  \\\n",
       "0  0.701403 -0.007469 -0.407939 -0.015607  0.554860  ...         1         1   \n",
       "1  0.701403 -0.007468 -0.407939 -0.015607  0.142149  ...         1         0   \n",
       "2 -1.855728       NaN -0.407939 -0.015607 -0.774979  ...         0         0   \n",
       "\n",
       "   Column14  Column15  Column16  Column17  Column18  Column19  Column20  \\\n",
       "0  0.001351   0.00339       0.0         0       0.0         0         0   \n",
       "1  0.001351   0.00339       0.0         0       0.0         0         0   \n",
       "2       NaN   0.00339       0.0         0       0.0         0         0   \n",
       "\n",
       "   Column21  \n",
       "0         0  \n",
       "1         0  \n",
       "2         0  \n",
       "\n",
       "[3 rows x 23 columns]"
      ]
     },
     "execution_count": 252,
     "metadata": {},
     "output_type": "execute_result"
    }
   ],
   "source": [
    "print(x_test.shape)\n",
    "x_test.head(3)"
   ]
  },
  {
   "cell_type": "code",
   "execution_count": 253,
   "metadata": {},
   "outputs": [
    {
     "name": "stdout",
     "output_type": "stream",
     "text": [
      "(785133, 2)\n"
     ]
    },
    {
     "data": {
      "text/html": [
       "<div>\n",
       "<style scoped>\n",
       "    .dataframe tbody tr th:only-of-type {\n",
       "        vertical-align: middle;\n",
       "    }\n",
       "\n",
       "    .dataframe tbody tr th {\n",
       "        vertical-align: top;\n",
       "    }\n",
       "\n",
       "    .dataframe thead th {\n",
       "        text-align: right;\n",
       "    }\n",
       "</style>\n",
       "<table border=\"1\" class=\"dataframe\">\n",
       "  <thead>\n",
       "    <tr style=\"text-align: right;\">\n",
       "      <th></th>\n",
       "      <th>ID</th>\n",
       "      <th>target</th>\n",
       "    </tr>\n",
       "  </thead>\n",
       "  <tbody>\n",
       "    <tr>\n",
       "      <th>0</th>\n",
       "      <td>ad1a67e4cbddc767a3456b0d94299b9e</td>\n",
       "      <td>0</td>\n",
       "    </tr>\n",
       "    <tr>\n",
       "      <th>1</th>\n",
       "      <td>7246d2f76ac0c217ec25e72ea5f014cb</td>\n",
       "      <td>0</td>\n",
       "    </tr>\n",
       "    <tr>\n",
       "      <th>2</th>\n",
       "      <td>22ba388e7dd14c13342c49e75fc29dda</td>\n",
       "      <td>0</td>\n",
       "    </tr>\n",
       "  </tbody>\n",
       "</table>\n",
       "</div>"
      ],
      "text/plain": [
       "                                 ID  target\n",
       "0  ad1a67e4cbddc767a3456b0d94299b9e       0\n",
       "1  7246d2f76ac0c217ec25e72ea5f014cb       0\n",
       "2  22ba388e7dd14c13342c49e75fc29dda       0"
      ]
     },
     "execution_count": 253,
     "metadata": {},
     "output_type": "execute_result"
    }
   ],
   "source": [
    "print(y_train.shape)\n",
    "y_train.head(3)"
   ]
  },
  {
   "cell_type": "markdown",
   "metadata": {},
   "source": [
    "## <center>Data Cleaning</center>"
   ]
  },
  {
   "cell_type": "code",
   "execution_count": 254,
   "metadata": {},
   "outputs": [
    {
     "data": {
      "text/html": [
       "<div>\n",
       "<style scoped>\n",
       "    .dataframe tbody tr th:only-of-type {\n",
       "        vertical-align: middle;\n",
       "    }\n",
       "\n",
       "    .dataframe tbody tr th {\n",
       "        vertical-align: top;\n",
       "    }\n",
       "\n",
       "    .dataframe thead th {\n",
       "        text-align: right;\n",
       "    }\n",
       "</style>\n",
       "<table border=\"1\" class=\"dataframe\">\n",
       "  <thead>\n",
       "    <tr style=\"text-align: right;\">\n",
       "      <th></th>\n",
       "      <th>TOTAL</th>\n",
       "      <th>PERCENT</th>\n",
       "    </tr>\n",
       "  </thead>\n",
       "  <tbody>\n",
       "    <tr>\n",
       "      <th>Column9</th>\n",
       "      <td>732137.0</td>\n",
       "      <td>93.250061</td>\n",
       "    </tr>\n",
       "    <tr>\n",
       "      <th>Column14</th>\n",
       "      <td>365703.0</td>\n",
       "      <td>46.578478</td>\n",
       "    </tr>\n",
       "    <tr>\n",
       "      <th>Column5</th>\n",
       "      <td>167180.0</td>\n",
       "      <td>21.293208</td>\n",
       "    </tr>\n",
       "    <tr>\n",
       "      <th>Column4</th>\n",
       "      <td>127710.0</td>\n",
       "      <td>16.266034</td>\n",
       "    </tr>\n",
       "    <tr>\n",
       "      <th>Column3</th>\n",
       "      <td>126303.0</td>\n",
       "      <td>16.086829</td>\n",
       "    </tr>\n",
       "    <tr>\n",
       "      <th>Column15</th>\n",
       "      <td>16456.0</td>\n",
       "      <td>2.095951</td>\n",
       "    </tr>\n",
       "    <tr>\n",
       "      <th>Column6</th>\n",
       "      <td>3850.0</td>\n",
       "      <td>0.490363</td>\n",
       "    </tr>\n",
       "    <tr>\n",
       "      <th>Column8</th>\n",
       "      <td>3850.0</td>\n",
       "      <td>0.490363</td>\n",
       "    </tr>\n",
       "    <tr>\n",
       "      <th>Column0</th>\n",
       "      <td>9.0</td>\n",
       "      <td>0.001146</td>\n",
       "    </tr>\n",
       "    <tr>\n",
       "      <th>ID</th>\n",
       "      <td>NaN</td>\n",
       "      <td>NaN</td>\n",
       "    </tr>\n",
       "    <tr>\n",
       "      <th>Column1</th>\n",
       "      <td>NaN</td>\n",
       "      <td>NaN</td>\n",
       "    </tr>\n",
       "    <tr>\n",
       "      <th>Column2</th>\n",
       "      <td>NaN</td>\n",
       "      <td>NaN</td>\n",
       "    </tr>\n",
       "    <tr>\n",
       "      <th>Column11</th>\n",
       "      <td>NaN</td>\n",
       "      <td>NaN</td>\n",
       "    </tr>\n",
       "    <tr>\n",
       "      <th>Column10</th>\n",
       "      <td>NaN</td>\n",
       "      <td>NaN</td>\n",
       "    </tr>\n",
       "    <tr>\n",
       "      <th>Column7</th>\n",
       "      <td>NaN</td>\n",
       "      <td>NaN</td>\n",
       "    </tr>\n",
       "    <tr>\n",
       "      <th>Column13</th>\n",
       "      <td>NaN</td>\n",
       "      <td>NaN</td>\n",
       "    </tr>\n",
       "    <tr>\n",
       "      <th>Column12</th>\n",
       "      <td>NaN</td>\n",
       "      <td>NaN</td>\n",
       "    </tr>\n",
       "    <tr>\n",
       "      <th>Column16</th>\n",
       "      <td>NaN</td>\n",
       "      <td>NaN</td>\n",
       "    </tr>\n",
       "    <tr>\n",
       "      <th>Column17</th>\n",
       "      <td>NaN</td>\n",
       "      <td>NaN</td>\n",
       "    </tr>\n",
       "    <tr>\n",
       "      <th>Column18</th>\n",
       "      <td>NaN</td>\n",
       "      <td>NaN</td>\n",
       "    </tr>\n",
       "    <tr>\n",
       "      <th>Column19</th>\n",
       "      <td>NaN</td>\n",
       "      <td>NaN</td>\n",
       "    </tr>\n",
       "    <tr>\n",
       "      <th>Column20</th>\n",
       "      <td>NaN</td>\n",
       "      <td>NaN</td>\n",
       "    </tr>\n",
       "    <tr>\n",
       "      <th>Column21</th>\n",
       "      <td>NaN</td>\n",
       "      <td>NaN</td>\n",
       "    </tr>\n",
       "  </tbody>\n",
       "</table>\n",
       "</div>"
      ],
      "text/plain": [
       "             TOTAL    PERCENT\n",
       "Column9   732137.0  93.250061\n",
       "Column14  365703.0  46.578478\n",
       "Column5   167180.0  21.293208\n",
       "Column4   127710.0  16.266034\n",
       "Column3   126303.0  16.086829\n",
       "Column15   16456.0   2.095951\n",
       "Column6     3850.0   0.490363\n",
       "Column8     3850.0   0.490363\n",
       "Column0        9.0   0.001146\n",
       "ID             NaN        NaN\n",
       "Column1        NaN        NaN\n",
       "Column2        NaN        NaN\n",
       "Column11       NaN        NaN\n",
       "Column10       NaN        NaN\n",
       "Column7        NaN        NaN\n",
       "Column13       NaN        NaN\n",
       "Column12       NaN        NaN\n",
       "Column16       NaN        NaN\n",
       "Column17       NaN        NaN\n",
       "Column18       NaN        NaN\n",
       "Column19       NaN        NaN\n",
       "Column20       NaN        NaN\n",
       "Column21       NaN        NaN"
      ]
     },
     "execution_count": 254,
     "metadata": {},
     "output_type": "execute_result"
    }
   ],
   "source": [
    "#checking for missing values \n",
    "def missing_values(x):\n",
    "    \n",
    "    total = x.isnull().sum().sort_values(ascending = False)\n",
    "    percent = (total/len(x)) * 100\n",
    "    return pd.concat((total , percent) , axis = 1 , keys = ['TOTAL' , 'PERCENT'])\n",
    "\n",
    "miss_values_xtrain = missing_values(x_train)\n",
    "miss_values_xtrain[miss_values_xtrain!=0]"
   ]
  },
  {
   "cell_type": "code",
   "execution_count": 255,
   "metadata": {},
   "outputs": [
    {
     "data": {
      "text/html": [
       "<div>\n",
       "<style scoped>\n",
       "    .dataframe tbody tr th:only-of-type {\n",
       "        vertical-align: middle;\n",
       "    }\n",
       "\n",
       "    .dataframe tbody tr th {\n",
       "        vertical-align: top;\n",
       "    }\n",
       "\n",
       "    .dataframe thead th {\n",
       "        text-align: right;\n",
       "    }\n",
       "</style>\n",
       "<table border=\"1\" class=\"dataframe\">\n",
       "  <thead>\n",
       "    <tr style=\"text-align: right;\">\n",
       "      <th></th>\n",
       "      <th>TOTAL</th>\n",
       "      <th>PERCENT</th>\n",
       "    </tr>\n",
       "  </thead>\n",
       "  <tbody>\n",
       "    <tr>\n",
       "      <th>Column9</th>\n",
       "      <td>243853.0</td>\n",
       "      <td>93.176087</td>\n",
       "    </tr>\n",
       "    <tr>\n",
       "      <th>Column14</th>\n",
       "      <td>121679.0</td>\n",
       "      <td>46.493474</td>\n",
       "    </tr>\n",
       "    <tr>\n",
       "      <th>Column5</th>\n",
       "      <td>55659.0</td>\n",
       "      <td>21.267271</td>\n",
       "    </tr>\n",
       "    <tr>\n",
       "      <th>Column4</th>\n",
       "      <td>42710.0</td>\n",
       "      <td>16.319466</td>\n",
       "    </tr>\n",
       "    <tr>\n",
       "      <th>Column3</th>\n",
       "      <td>42234.0</td>\n",
       "      <td>16.137586</td>\n",
       "    </tr>\n",
       "    <tr>\n",
       "      <th>Column15</th>\n",
       "      <td>5485.0</td>\n",
       "      <td>2.095815</td>\n",
       "    </tr>\n",
       "    <tr>\n",
       "      <th>Column6</th>\n",
       "      <td>1234.0</td>\n",
       "      <td>0.471511</td>\n",
       "    </tr>\n",
       "    <tr>\n",
       "      <th>Column8</th>\n",
       "      <td>1234.0</td>\n",
       "      <td>0.471511</td>\n",
       "    </tr>\n",
       "    <tr>\n",
       "      <th>Column0</th>\n",
       "      <td>2.0</td>\n",
       "      <td>0.000764</td>\n",
       "    </tr>\n",
       "    <tr>\n",
       "      <th>ID</th>\n",
       "      <td>NaN</td>\n",
       "      <td>NaN</td>\n",
       "    </tr>\n",
       "    <tr>\n",
       "      <th>Column1</th>\n",
       "      <td>NaN</td>\n",
       "      <td>NaN</td>\n",
       "    </tr>\n",
       "    <tr>\n",
       "      <th>Column2</th>\n",
       "      <td>NaN</td>\n",
       "      <td>NaN</td>\n",
       "    </tr>\n",
       "    <tr>\n",
       "      <th>Column11</th>\n",
       "      <td>NaN</td>\n",
       "      <td>NaN</td>\n",
       "    </tr>\n",
       "    <tr>\n",
       "      <th>Column10</th>\n",
       "      <td>NaN</td>\n",
       "      <td>NaN</td>\n",
       "    </tr>\n",
       "    <tr>\n",
       "      <th>Column7</th>\n",
       "      <td>NaN</td>\n",
       "      <td>NaN</td>\n",
       "    </tr>\n",
       "    <tr>\n",
       "      <th>Column13</th>\n",
       "      <td>NaN</td>\n",
       "      <td>NaN</td>\n",
       "    </tr>\n",
       "    <tr>\n",
       "      <th>Column12</th>\n",
       "      <td>NaN</td>\n",
       "      <td>NaN</td>\n",
       "    </tr>\n",
       "    <tr>\n",
       "      <th>Column16</th>\n",
       "      <td>NaN</td>\n",
       "      <td>NaN</td>\n",
       "    </tr>\n",
       "    <tr>\n",
       "      <th>Column17</th>\n",
       "      <td>NaN</td>\n",
       "      <td>NaN</td>\n",
       "    </tr>\n",
       "    <tr>\n",
       "      <th>Column18</th>\n",
       "      <td>NaN</td>\n",
       "      <td>NaN</td>\n",
       "    </tr>\n",
       "    <tr>\n",
       "      <th>Column19</th>\n",
       "      <td>NaN</td>\n",
       "      <td>NaN</td>\n",
       "    </tr>\n",
       "    <tr>\n",
       "      <th>Column20</th>\n",
       "      <td>NaN</td>\n",
       "      <td>NaN</td>\n",
       "    </tr>\n",
       "    <tr>\n",
       "      <th>Column21</th>\n",
       "      <td>NaN</td>\n",
       "      <td>NaN</td>\n",
       "    </tr>\n",
       "  </tbody>\n",
       "</table>\n",
       "</div>"
      ],
      "text/plain": [
       "             TOTAL    PERCENT\n",
       "Column9   243853.0  93.176087\n",
       "Column14  121679.0  46.493474\n",
       "Column5    55659.0  21.267271\n",
       "Column4    42710.0  16.319466\n",
       "Column3    42234.0  16.137586\n",
       "Column15    5485.0   2.095815\n",
       "Column6     1234.0   0.471511\n",
       "Column8     1234.0   0.471511\n",
       "Column0        2.0   0.000764\n",
       "ID             NaN        NaN\n",
       "Column1        NaN        NaN\n",
       "Column2        NaN        NaN\n",
       "Column11       NaN        NaN\n",
       "Column10       NaN        NaN\n",
       "Column7        NaN        NaN\n",
       "Column13       NaN        NaN\n",
       "Column12       NaN        NaN\n",
       "Column16       NaN        NaN\n",
       "Column17       NaN        NaN\n",
       "Column18       NaN        NaN\n",
       "Column19       NaN        NaN\n",
       "Column20       NaN        NaN\n",
       "Column21       NaN        NaN"
      ]
     },
     "execution_count": 255,
     "metadata": {},
     "output_type": "execute_result"
    }
   ],
   "source": [
    "miss_values_xtest = missing_values(x_test)\n",
    "miss_values_xtest[miss_values_xtest!=0]"
   ]
  },
  {
   "cell_type": "markdown",
   "metadata": {},
   "source": [
    "- **We will be dropping column 9 in both test and train datasets**"
   ]
  },
  {
   "cell_type": "code",
   "execution_count": 256,
   "metadata": {},
   "outputs": [],
   "source": [
    "x_train.drop('Column9' , axis = 1 , inplace=True)\n",
    "x_test.drop('Column9' , axis = 1, inplace=True)\n",
    "x_train.drop('ID' , axis = 1 , inplace= True)\n",
    "x_test.drop('ID', axis= 1 , inplace= True)\n",
    "y_train.drop('ID' , axis = 1 , inplace =True)"
   ]
  },
  {
   "cell_type": "markdown",
   "metadata": {},
   "source": [
    "- **Checking the distribution of the missing values for imputation**"
   ]
  },
  {
   "cell_type": "code",
   "execution_count": 257,
   "metadata": {},
   "outputs": [
    {
     "data": {
      "text/html": [
       "<div>\n",
       "<style scoped>\n",
       "    .dataframe tbody tr th:only-of-type {\n",
       "        vertical-align: middle;\n",
       "    }\n",
       "\n",
       "    .dataframe tbody tr th {\n",
       "        vertical-align: top;\n",
       "    }\n",
       "\n",
       "    .dataframe thead th {\n",
       "        text-align: right;\n",
       "    }\n",
       "</style>\n",
       "<table border=\"1\" class=\"dataframe\">\n",
       "  <thead>\n",
       "    <tr style=\"text-align: right;\">\n",
       "      <th></th>\n",
       "      <th>Column14</th>\n",
       "      <th>Column5</th>\n",
       "      <th>Column4</th>\n",
       "      <th>Column3</th>\n",
       "      <th>Column15</th>\n",
       "      <th>Column6</th>\n",
       "      <th>Column8</th>\n",
       "      <th>Column0</th>\n",
       "    </tr>\n",
       "  </thead>\n",
       "  <tbody>\n",
       "    <tr>\n",
       "      <th>count</th>\n",
       "      <td>419430.000000</td>\n",
       "      <td>617953.000000</td>\n",
       "      <td>657423.000000</td>\n",
       "      <td>658830.000000</td>\n",
       "      <td>768677.000000</td>\n",
       "      <td>781283.000000</td>\n",
       "      <td>781283.000000</td>\n",
       "      <td>785124.000000</td>\n",
       "    </tr>\n",
       "    <tr>\n",
       "      <th>mean</th>\n",
       "      <td>-0.000863</td>\n",
       "      <td>-0.000367</td>\n",
       "      <td>-0.000855</td>\n",
       "      <td>-0.000210</td>\n",
       "      <td>-0.000837</td>\n",
       "      <td>-0.000709</td>\n",
       "      <td>-0.000158</td>\n",
       "      <td>0.440757</td>\n",
       "    </tr>\n",
       "    <tr>\n",
       "      <th>std</th>\n",
       "      <td>1.291202</td>\n",
       "      <td>1.015255</td>\n",
       "      <td>1.000350</td>\n",
       "      <td>0.999935</td>\n",
       "      <td>1.283393</td>\n",
       "      <td>0.998984</td>\n",
       "      <td>1.056769</td>\n",
       "      <td>1.163275</td>\n",
       "    </tr>\n",
       "    <tr>\n",
       "      <th>min</th>\n",
       "      <td>-832.749615</td>\n",
       "      <td>-0.007469</td>\n",
       "      <td>-1.855728</td>\n",
       "      <td>-2.028572</td>\n",
       "      <td>-1091.545904</td>\n",
       "      <td>-0.407939</td>\n",
       "      <td>-0.774979</td>\n",
       "      <td>0.000000</td>\n",
       "    </tr>\n",
       "    <tr>\n",
       "      <th>25%</th>\n",
       "      <td>0.001351</td>\n",
       "      <td>-0.007469</td>\n",
       "      <td>-0.577162</td>\n",
       "      <td>-0.675216</td>\n",
       "      <td>0.003390</td>\n",
       "      <td>-0.407939</td>\n",
       "      <td>-0.774979</td>\n",
       "      <td>0.000000</td>\n",
       "    </tr>\n",
       "    <tr>\n",
       "      <th>50%</th>\n",
       "      <td>0.001351</td>\n",
       "      <td>-0.007469</td>\n",
       "      <td>0.701403</td>\n",
       "      <td>0.678139</td>\n",
       "      <td>0.003390</td>\n",
       "      <td>-0.407939</td>\n",
       "      <td>0.122085</td>\n",
       "      <td>0.000000</td>\n",
       "    </tr>\n",
       "    <tr>\n",
       "      <th>75%</th>\n",
       "      <td>0.001351</td>\n",
       "      <td>-0.007468</td>\n",
       "      <td>0.701403</td>\n",
       "      <td>0.678139</td>\n",
       "      <td>0.003390</td>\n",
       "      <td>-0.367723</td>\n",
       "      <td>0.625528</td>\n",
       "      <td>0.000000</td>\n",
       "    </tr>\n",
       "    <tr>\n",
       "      <th>max</th>\n",
       "      <td>8.514416</td>\n",
       "      <td>551.421127</td>\n",
       "      <td>0.701403</td>\n",
       "      <td>0.678139</td>\n",
       "      <td>0.012736</td>\n",
       "      <td>14.985817</td>\n",
       "      <td>323.992484</td>\n",
       "      <td>18.000000</td>\n",
       "    </tr>\n",
       "  </tbody>\n",
       "</table>\n",
       "</div>"
      ],
      "text/plain": [
       "            Column14        Column5        Column4        Column3  \\\n",
       "count  419430.000000  617953.000000  657423.000000  658830.000000   \n",
       "mean       -0.000863      -0.000367      -0.000855      -0.000210   \n",
       "std         1.291202       1.015255       1.000350       0.999935   \n",
       "min      -832.749615      -0.007469      -1.855728      -2.028572   \n",
       "25%         0.001351      -0.007469      -0.577162      -0.675216   \n",
       "50%         0.001351      -0.007469       0.701403       0.678139   \n",
       "75%         0.001351      -0.007468       0.701403       0.678139   \n",
       "max         8.514416     551.421127       0.701403       0.678139   \n",
       "\n",
       "            Column15        Column6        Column8        Column0  \n",
       "count  768677.000000  781283.000000  781283.000000  785124.000000  \n",
       "mean       -0.000837      -0.000709      -0.000158       0.440757  \n",
       "std         1.283393       0.998984       1.056769       1.163275  \n",
       "min     -1091.545904      -0.407939      -0.774979       0.000000  \n",
       "25%         0.003390      -0.407939      -0.774979       0.000000  \n",
       "50%         0.003390      -0.407939       0.122085       0.000000  \n",
       "75%         0.003390      -0.367723       0.625528       0.000000  \n",
       "max         0.012736      14.985817     323.992484      18.000000  "
      ]
     },
     "execution_count": 257,
     "metadata": {},
     "output_type": "execute_result"
    }
   ],
   "source": [
    "impute_columns = ['Column14' , 'Column5' , 'Column4' , 'Column3' , 'Column15' , 'Column6' , 'Column8', 'Column0']\n",
    "x_train[impute_columns].describe()"
   ]
  },
  {
   "cell_type": "code",
   "execution_count": 258,
   "metadata": {},
   "outputs": [
    {
     "name": "stdout",
     "output_type": "stream",
     "text": [
      "Skewness:\n",
      " Column14   -639.970050\n",
      "Column5     366.846494\n",
      "Column4      -1.007385\n",
      "Column3      -1.165275\n",
      "Column15   -805.439282\n",
      "Column6       2.589699\n",
      "Column8      86.605312\n",
      "Column0       4.074813\n",
      "dtype: float64\n",
      "Kurtosis:\n",
      " Column14    412518.265513\n",
      "Column5     167500.843046\n",
      "Column4         -0.703438\n",
      "Column3         -0.284689\n",
      "Column15    681366.420964\n",
      "Column6          5.443259\n",
      "Column8      22725.306313\n",
      "Column0         22.506434\n",
      "dtype: float64\n"
     ]
    }
   ],
   "source": [
    "skewness = x_train[impute_columns].skew()\n",
    "kurtosis = x_train[impute_columns].kurtosis()\n",
    "\n",
    "print(\"Skewness:\\n\", skewness)\n",
    "print(\"Kurtosis:\\n\", kurtosis)"
   ]
  },
  {
   "cell_type": "markdown",
   "metadata": {},
   "source": [
    "- **Extreme Skewness :**  Columns - 14 , 5 , 15 , 6   . *Use median imputation*\n",
    "- **Slight skewness :**   Columns - 3 , 4 , 0 , 8 . *Use mean imputation**"
   ]
  },
  {
   "cell_type": "markdown",
   "metadata": {},
   "source": [
    "- **Imputing the remaining missing values**"
   ]
  },
  {
   "cell_type": "code",
   "execution_count": 259,
   "metadata": {},
   "outputs": [],
   "source": [
    "class imputation:\n",
    "    \n",
    "    median_cols = ['Column14' , 'Column5' , 'Column15' , 'Column6']\n",
    "    mean_cols = ['Column3' , 'Column4' , 'Column0' , 'Column8']\n",
    "    #impute mean values for the missing data \n",
    "    def imp_mean(self , x):\n",
    "        for col in self.mean_cols:\n",
    "            x[col] = SimpleImputer(strategy='mean').fit_transform(x[[col]])\n",
    "        return x \n",
    "        \n",
    "    #impute median values for the missing data \n",
    "    def imp_median(self ,x):\n",
    "        for col in self.median_cols:\n",
    "            x[col] = SimpleImputer(strategy='median').fit_transform(x[[col]])\n",
    "        return x\n",
    "        \n",
    "imp = imputation()\n",
    "x_train = imp.imp_mean( x = x_train)\n",
    "x_train = imp.imp_median(x = x_train)\n",
    "x_test = imp.imp_mean( x = x_test)\n",
    "x_test = imp.imp_median(x = x_test)"
   ]
  },
  {
   "cell_type": "code",
   "execution_count": 260,
   "metadata": {},
   "outputs": [
    {
     "data": {
      "text/plain": [
       "Column0     0\n",
       "Column1     0\n",
       "Column2     0\n",
       "Column3     0\n",
       "Column4     0\n",
       "Column5     0\n",
       "Column6     0\n",
       "Column7     0\n",
       "Column8     0\n",
       "Column10    0\n",
       "Column11    0\n",
       "Column12    0\n",
       "Column13    0\n",
       "Column14    0\n",
       "Column15    0\n",
       "Column16    0\n",
       "Column17    0\n",
       "Column18    0\n",
       "Column19    0\n",
       "Column20    0\n",
       "Column21    0\n",
       "dtype: int64"
      ]
     },
     "execution_count": 260,
     "metadata": {},
     "output_type": "execute_result"
    }
   ],
   "source": [
    "x_train.isnull().sum()"
   ]
  },
  {
   "cell_type": "markdown",
   "metadata": {},
   "source": [
    "- ***Outlier detection***"
   ]
  },
  {
   "cell_type": "code",
   "execution_count": 261,
   "metadata": {},
   "outputs": [
    {
     "data": {
      "text/plain": [
       "Column14    36.070067\n",
       "Column10    24.057453\n",
       "Column6     22.935222\n",
       "Column7     21.240096\n",
       "Column0     19.815114\n",
       "Column3     17.063861\n",
       "Column4     13.543947\n",
       "Column15    13.055622\n",
       "Column18    13.043268\n",
       "Column17     2.348137\n",
       "Column19     1.875861\n",
       "Column20     0.935128\n",
       "Column8      0.368600\n",
       "Column5      0.302114\n",
       "Column21     0.275749\n",
       "Column16     0.120107\n",
       "Column2      0.026110\n",
       "Column1      0.000000\n",
       "Column13     0.000000\n",
       "Column11     0.000000\n",
       "Column12     0.000000\n",
       "dtype: float64"
      ]
     },
     "execution_count": 261,
     "metadata": {},
     "output_type": "execute_result"
    }
   ],
   "source": [
    "#using IQR method to determine the outliers \n",
    "\n",
    "Q1 = x_train.quantile(0.25)\n",
    "Q3 = x_train.quantile(0.75)\n",
    "\n",
    "IQR = Q3 - Q1\n",
    "outliers = ((x_train<(Q1 - 1.5 * IQR)) | (x_train > (Q3 + 1.5 * IQR)))\n",
    "outliers_percentage = (outliers.sum()/len(x_train)) * 100\n",
    "outliers_percentage.sort_values(ascending=False)\n",
    "\n",
    "#We will do robust scaling for the columns having outliers more than 15 percent"
   ]
  },
  {
   "cell_type": "markdown",
   "metadata": {},
   "source": [
    "___"
   ]
  },
  {
   "cell_type": "markdown",
   "metadata": {},
   "source": [
    "## <center>Feature Scaling </center>"
   ]
  },
  {
   "cell_type": "code",
   "execution_count": 262,
   "metadata": {},
   "outputs": [
    {
     "name": "stdout",
     "output_type": "stream",
     "text": [
      "{'Column0': np.float64(0.0), 'Column1': np.float64(0.0), 'Column2': np.float64(0.0), 'Column3': np.float64(0.0), 'Column4': np.float64(0.0), 'Column5': np.float64(0.0), 'Column6': np.float64(0.0), 'Column7': np.float64(0.0), 'Column8': np.float64(0.0), 'Column10': np.float64(0.0), 'Column11': np.float64(0.0), 'Column12': np.float64(0.0), 'Column13': np.float64(0.0), 'Column14': np.float64(0.0), 'Column15': np.float64(0.0), 'Column16': np.float64(0.0), 'Column17': np.float64(0.0), 'Column18': np.float64(0.0), 'Column19': np.float64(0.0), 'Column20': np.float64(0.0), 'Column21': np.float64(0.0)}\n"
     ]
    }
   ],
   "source": [
    "from scipy.stats import normaltest\n",
    "\n",
    "# Function to check normality for all columns\n",
    "def check_normality(x):\n",
    "    results = {}\n",
    "    for column in x.columns:\n",
    "        stat, p = normaltest(x_train[column].dropna())\n",
    "        results[column] = p\n",
    "    return results\n",
    "\n",
    "normality_results = check_normality(x_train)\n",
    "print(normality_results)"
   ]
  },
  {
   "cell_type": "markdown",
   "metadata": {},
   "source": [
    "- **So we can see that none of the columns follow normal distribution since p value is zero . so we will be using normalization technique**\n",
    "- **Also we have seen that columns - 14 , 10 , 6 , 7 , 0 , 3 have outliers . So we will be using robust scaling technique**"
   ]
  },
  {
   "cell_type": "code",
   "execution_count": 263,
   "metadata": {},
   "outputs": [],
   "source": [
    "class DataScaler:\n",
    "    def __init__(self, robust_columns):\n",
    "        self.robust_columns = robust_columns\n",
    "        self.rs = RobustScaler()\n",
    "        self.mm = MinMaxScaler()\n",
    "    \n",
    "    def fit_transform(self, x_train, x_test):\n",
    "        normalize = [i for i in x_train.columns if i not in self.robust_columns]\n",
    "        \n",
    "        for col in self.robust_columns:\n",
    "            x_train[col] = self.rs.fit_transform(x_train[[col]])\n",
    "            x_test[col] = self.rs.transform(x_test[[col]])\n",
    "        \n",
    "        for col in normalize:\n",
    "            x_train[col] = self.mm.fit_transform(x_train[[col]])\n",
    "            x_test[col] = self.mm.transform(x_test[[col]])\n",
    "        \n",
    "        return x_train, x_test\n",
    "\n",
    "robust_columns = ['Column14', 'Column10', 'Column6', 'Column7', 'Column0', 'Column3']\n",
    "scaler = DataScaler(robust_columns)\n",
    "\n",
    "x_train_scaled, x_test_scaled = scaler.fit_transform(x_train, x_test)\n"
   ]
  },
  {
   "cell_type": "markdown",
   "metadata": {},
   "source": [
    "---"
   ]
  },
  {
   "cell_type": "markdown",
   "metadata": {},
   "source": [
    "## <center>Feature Engineering</center>"
   ]
  },
  {
   "cell_type": "markdown",
   "metadata": {},
   "source": [
    "**We will be using 3 Feature Engineering techniques**\n",
    "\n",
    "- **Forward Feature Selection**\n",
    "- **Pearson Correlation Co-efficient**\n",
    "- **Recursive Feature Elimination**"
   ]
  },
  {
   "cell_type": "markdown",
   "metadata": {},
   "source": [
    "***1. Pearson Correlation Co-efficient***\n",
    "\n",
    "The Pearson correlation coefficient measures the linear relationship between two variables. It helps identify highly correlated features, which can be removed to reduce multicollinearity. This improves model performance and interpretability.\n"
   ]
  },
  {
   "cell_type": "code",
   "execution_count": 310,
   "metadata": {},
   "outputs": [
    {
     "name": "stdout",
     "output_type": "stream",
     "text": [
      "['Column18', 'Column1', 'Column19', 'Column17', 'Column20', 'Column8', 'Column12', 'Column21', 'Column2']\n",
      "Column18    0.727999\n",
      "Column1     0.374542\n",
      "Column19    0.258609\n",
      "Column17    0.248896\n",
      "Column20    0.135516\n",
      "Column8     0.129273\n",
      "Column12    0.128421\n",
      "Column21    0.119171\n",
      "Column2     0.114910\n",
      "Name: target, dtype: float64\n"
     ]
    }
   ],
   "source": [
    "df_x = pd.DataFrame(x_train)\n",
    "df_x['target'] = y_train\n",
    "correlations = df_x.corr()['target'].drop('target') #finds the correlations of all columns to target variable\n",
    "\n",
    "#using abs coz -> in many cases we are interested in magnitude (value) instead of direction (pos/negative)\n",
    "sorted_corr = correlations.abs().sort_values(ascending=False)\n",
    "pc_features = sorted_corr.index[: 9].tolist() #we will be listing top 10 columns based on their correlation\n",
    "print(pc_features)\n",
    "print(sorted_corr[pc_features])"
   ]
  },
  {
   "cell_type": "markdown",
   "metadata": {},
   "source": [
    "***2. Forward Feature Selection***\n",
    "\n",
    "It starts with no features and iteratively adds the feature that gives the best performance improvement when added to the already selected features. The performance is measured using the accuracy of a decision tree classifier. The function returns the selected features in the order they were added, along with their corresponding scores. The print statement inside the loop provides a step-by-step log of which feature is selected at each step and its corresponding score. This can be helpful for understanding how the feature selection process is progressing."
   ]
  },
  {
   "cell_type": "code",
   "execution_count": 316,
   "metadata": {},
   "outputs": [
    {
     "name": "stdout",
     "output_type": "stream",
     "text": [
      "Feature 1 : Column18 with score 0.9635056856391759\n",
      "Feature 2 : Column7 with score 0.9699975545637953\n",
      "Feature 3 : Column1 with score 0.973787980681054\n",
      "Feature 4 : Column3 with score 0.9742885309042001\n",
      "Feature 5 : Column5 with score 0.9742885309042001\n",
      "Feature 6 : Column0 with score 0.9742885309042001\n",
      "Feature 7 : Column15 with score 0.9742885309042001\n",
      "Feature 8 : Column6 with score 0.9742885309042001\n",
      "Feature 9 : Column10 with score 0.9742885309042001\n",
      "Feature 10 : Column8 with score 0.9742885309042001\n",
      "Feature 11 : Column13 with score 0.9742885309042001\n",
      "Feature 12 : Column16 with score 0.9742885309042001\n",
      "Selected features: ['Column18', 'Column7', 'Column1', 'Column3', 'Column5', 'Column0', 'Column15', 'Column6', 'Column10', 'Column8', 'Column13', 'Column16']\n",
      "Ordered scores: [0.9635056856391759, 0.9699975545637953, 0.973787980681054, 0.9742885309042001, 0.9742885309042001, 0.9742885309042001, 0.9742885309042001, 0.9742885309042001, 0.9742885309042001, 0.9742885309042001, 0.9742885309042001, 0.9742885309042001]\n"
     ]
    }
   ],
   "source": [
    "max_features = 12\n",
    "selected_fs = []\n",
    "ordered_scores = []\n",
    "\n",
    "for i in range(max_features):\n",
    "    features_left = list(set(x_train.columns) - set(selected_fs))\n",
    "    \n",
    "    best_score = 0\n",
    "    best_feature = ''\n",
    "\n",
    "    for feature in features_left:\n",
    "        temp_selected_features = selected_fs + [feature]\n",
    "        \n",
    "        classifier = AdaBoostClassifier(algorithm='SAMME').fit(x_train[temp_selected_features] , y_train)\n",
    "        y_pred = classifier.predict(x_test[temp_selected_features])\n",
    "        score = accuracy_score(y_test , y_pred)\n",
    "        \n",
    "        if score>best_score:\n",
    "            best_score = score\n",
    "            best_feature = feature\n",
    "            \n",
    "    selected_fs.append(best_feature)\n",
    "    ordered_scores.append(best_score)\n",
    "    \n",
    "    print(f\"Feature {i+1} : {best_feature} with score {best_score}\")\n",
    "\n",
    "print(\"Selected features:\", selected_fs)\n",
    "print(\"Ordered scores:\", ordered_scores)"
   ]
  },
  {
   "cell_type": "code",
   "execution_count": 317,
   "metadata": {},
   "outputs": [],
   "source": [
    "fs_features = ['Column18', 'Column7', 'Column1', 'Column3', 'Column5', 'Column0', 'Column15', 'Column6', 'Column10', 'Column8', 'Column13', 'Column16']"
   ]
  },
  {
   "cell_type": "markdown",
   "metadata": {},
   "source": [
    "***3. Recursive Feature Elimination***"
   ]
  },
  {
   "cell_type": "code",
   "execution_count": 264,
   "metadata": {},
   "outputs": [
    {
     "name": "stdout",
     "output_type": "stream",
     "text": [
      "Selected Features of xtrain Index(['Column0', 'Column1', 'Column2', 'Column3', 'Column8', 'Column10',\n",
      "       'Column12', 'Column15', 'Column16', 'Column17', 'Column18', 'Column19',\n",
      "       'Column20'],\n",
      "      dtype='object')\n",
      "Selected Features of xtest  Index(['Column0', 'Column1', 'Column2', 'Column3', 'Column8', 'Column10',\n",
      "       'Column12', 'Column15', 'Column16', 'Column17', 'Column18', 'Column19',\n",
      "       'Column20'],\n",
      "      dtype='object')\n"
     ]
    }
   ],
   "source": [
    "#Recursice Feature Elimination\n",
    "\n",
    "from sklearn.feature_selection import RFE\n",
    "from sklearn.linear_model import LogisticRegression\n",
    "import numpy as np\n",
    "\n",
    "model = LogisticRegression(max_iter=300 , solver='liblinear')\n",
    "rfe = RFE(model , n_features_to_select=13 , step= 3) #since we have a large dataset we will take step (2- 5)\n",
    "y_train_rfe = np.ravel(y_train.values)\n",
    "rfe.fit(x_train , y_train_rfe)\n",
    "x_train_rfe = rfe.transform(x_train)\n",
    "x_test_rfe = rfe.transform(x_test)\n",
    "\n",
    "selected_features_xtrain = x_train.columns[rfe.support_]\n",
    "selected_features_xtest = x_test.columns[rfe.support_]\n",
    "print(\"Selected Features of xtrain\" , selected_features_xtrain)\n",
    "print(\"Selected Features of xtest \" , selected_features_xtest)"
   ]
  },
  {
   "cell_type": "code",
   "execution_count": 268,
   "metadata": {},
   "outputs": [],
   "source": [
    "rfe_features = selected_features_xtrain"
   ]
  },
  {
   "cell_type": "code",
   "execution_count": 270,
   "metadata": {},
   "outputs": [],
   "source": [
    "y_train = y_train.values.reshape(-1)\n",
    "y_test = y_test.values.reshape(-1)"
   ]
  },
  {
   "cell_type": "markdown",
   "metadata": {},
   "source": [
    "___"
   ]
  },
  {
   "cell_type": "markdown",
   "metadata": {},
   "source": [
    "## <center> Model Training</center>"
   ]
  },
  {
   "cell_type": "markdown",
   "metadata": {},
   "source": [
    "- *We will be using Decision Tree , Random Forest , Gradient Boost , ADA Boost techniques for building the models*"
   ]
  },
  {
   "cell_type": "code",
   "execution_count": 320,
   "metadata": {},
   "outputs": [
    {
     "name": "stdout",
     "output_type": "stream",
     "text": [
      "==================================\n",
      "Feature name : Pearson corellation coefficient\n",
      "----------------------------------\n",
      "Decision Tree\n",
      "Model performance for Training set\n",
      "- Accuracy: 0.9988\n",
      "- F1 score: 0.9988\n",
      "- Precision: 0.9988\n",
      "- Recall: 0.9988\n",
      "- Roc Auc Score: 0.9966\n",
      "----------------------------------\n",
      "Model performance for Test set\n",
      "- Accuracy: 0.9640\n",
      "- F1 score: 0.9640\n",
      "- Precision: 0.9640\n",
      "- Recall: 0.9640\n",
      "- Roc Auc Score: 0.8943\n",
      "===================================\n",
      "\n",
      "\n",
      "Random Forest\n",
      "Model performance for Training set\n",
      "- Accuracy: 0.9988\n",
      "- F1 score: 0.9988\n",
      "- Precision: 0.9988\n",
      "- Recall: 0.9988\n",
      "- Roc Auc Score: 0.9987\n",
      "----------------------------------\n",
      "Model performance for Test set\n",
      "- Accuracy: 0.9688\n",
      "- F1 score: 0.9692\n",
      "- Precision: 0.9696\n",
      "- Recall: 0.9688\n",
      "- Roc Auc Score: 0.9199\n",
      "===================================\n",
      "\n",
      "\n",
      "Gradient Boost\n",
      "Model performance for Training set\n",
      "- Accuracy: 0.9725\n",
      "- F1 score: 0.9733\n",
      "- Precision: 0.9750\n",
      "- Recall: 0.9725\n",
      "- Roc Auc Score: 0.9519\n",
      "----------------------------------\n",
      "Model performance for Test set\n",
      "- Accuracy: 0.9726\n",
      "- F1 score: 0.9734\n",
      "- Precision: 0.9752\n",
      "- Recall: 0.9726\n",
      "- Roc Auc Score: 0.9534\n",
      "===================================\n",
      "\n",
      "\n",
      "Adaboost\n",
      "Model performance for Training set\n",
      "- Accuracy: 0.9685\n",
      "- F1 score: 0.9679\n",
      "- Precision: 0.9676\n",
      "- Recall: 0.9685\n",
      "- Roc Auc Score: 0.8903\n",
      "----------------------------------\n",
      "Model performance for Test set\n",
      "- Accuracy: 0.9691\n",
      "- F1 score: 0.9686\n",
      "- Precision: 0.9683\n",
      "- Recall: 0.9691\n",
      "- Roc Auc Score: 0.8939\n",
      "===================================\n",
      "\n",
      "\n",
      "==================================\n",
      "Feature name : Forward Feature Selection\n",
      "----------------------------------\n",
      "Decision Tree\n",
      "Model performance for Training set\n",
      "- Accuracy: 0.9930\n",
      "- F1 score: 0.9930\n",
      "- Precision: 0.9931\n",
      "- Recall: 0.9930\n",
      "- Roc Auc Score: 0.9858\n",
      "----------------------------------\n",
      "Model performance for Test set\n",
      "- Accuracy: 0.9696\n",
      "- F1 score: 0.9698\n",
      "- Precision: 0.9701\n",
      "- Recall: 0.9696\n",
      "- Roc Auc Score: 0.9180\n",
      "===================================\n",
      "\n",
      "\n",
      "Random Forest\n",
      "Model performance for Training set\n",
      "- Accuracy: 0.9930\n",
      "- F1 score: 0.9930\n",
      "- Precision: 0.9932\n",
      "- Recall: 0.9930\n",
      "- Roc Auc Score: 0.9897\n",
      "----------------------------------\n",
      "Model performance for Test set\n",
      "- Accuracy: 0.9742\n",
      "- F1 score: 0.9746\n",
      "- Precision: 0.9753\n",
      "- Recall: 0.9742\n",
      "- Roc Auc Score: 0.9410\n",
      "===================================\n",
      "\n",
      "\n",
      "Gradient Boost\n",
      "Model performance for Training set\n",
      "- Accuracy: 0.9764\n",
      "- F1 score: 0.9770\n",
      "- Precision: 0.9782\n",
      "- Recall: 0.9764\n",
      "- Roc Auc Score: 0.9580\n",
      "----------------------------------\n",
      "Model performance for Test set\n",
      "- Accuracy: 0.9765\n",
      "- F1 score: 0.9772\n",
      "- Precision: 0.9785\n",
      "- Recall: 0.9765\n",
      "- Roc Auc Score: 0.9601\n",
      "===================================\n",
      "\n",
      "\n",
      "Adaboost\n",
      "Model performance for Training set\n",
      "- Accuracy: 0.9741\n",
      "- F1 score: 0.9748\n",
      "- Precision: 0.9760\n",
      "- Recall: 0.9741\n",
      "- Roc Auc Score: 0.9505\n",
      "----------------------------------\n",
      "Model performance for Test set\n",
      "- Accuracy: 0.9743\n",
      "- F1 score: 0.9749\n",
      "- Precision: 0.9762\n",
      "- Recall: 0.9743\n",
      "- Roc Auc Score: 0.9521\n",
      "===================================\n",
      "\n",
      "\n",
      "==================================\n",
      "Feature name : Recursive Feature Elimination\n",
      "----------------------------------\n",
      "Decision Tree\n",
      "Model performance for Training set\n",
      "- Accuracy: 0.9990\n",
      "- F1 score: 0.9990\n",
      "- Precision: 0.9990\n",
      "- Recall: 0.9990\n",
      "- Roc Auc Score: 0.9970\n",
      "----------------------------------\n",
      "Model performance for Test set\n",
      "- Accuracy: 0.9661\n",
      "- F1 score: 0.9660\n",
      "- Precision: 0.9660\n",
      "- Recall: 0.9661\n",
      "- Roc Auc Score: 0.8991\n",
      "===================================\n",
      "\n",
      "\n",
      "Random Forest\n",
      "Model performance for Training set\n",
      "- Accuracy: 0.9990\n",
      "- F1 score: 0.9990\n",
      "- Precision: 0.9990\n",
      "- Recall: 0.9990\n",
      "- Roc Auc Score: 0.9989\n",
      "----------------------------------\n",
      "Model performance for Test set\n",
      "- Accuracy: 0.9739\n",
      "- F1 score: 0.9744\n",
      "- Precision: 0.9751\n",
      "- Recall: 0.9739\n",
      "- Roc Auc Score: 0.9411\n",
      "===================================\n",
      "\n",
      "\n",
      "Gradient Boost\n",
      "Model performance for Training set\n",
      "- Accuracy: 0.9753\n",
      "- F1 score: 0.9759\n",
      "- Precision: 0.9772\n",
      "- Recall: 0.9753\n",
      "- Roc Auc Score: 0.9556\n",
      "----------------------------------\n",
      "Model performance for Test set\n",
      "- Accuracy: 0.9752\n",
      "- F1 score: 0.9759\n",
      "- Precision: 0.9774\n",
      "- Recall: 0.9752\n",
      "- Roc Auc Score: 0.9577\n",
      "===================================\n",
      "\n",
      "\n",
      "Adaboost\n",
      "Model performance for Training set\n",
      "- Accuracy: 0.9722\n",
      "- F1 score: 0.9728\n",
      "- Precision: 0.9739\n",
      "- Recall: 0.9722\n",
      "- Roc Auc Score: 0.9421\n",
      "----------------------------------\n",
      "Model performance for Test set\n",
      "- Accuracy: 0.9724\n",
      "- F1 score: 0.9730\n",
      "- Precision: 0.9742\n",
      "- Recall: 0.9724\n",
      "- Roc Auc Score: 0.9437\n",
      "===================================\n",
      "\n",
      "\n"
     ]
    }
   ],
   "source": [
    "feature_sets = {\n",
    "    \n",
    "    'Pearson corellation coefficient' : pc_features , \n",
    "    'Forward Feature Selection' : fs_features , \n",
    "    'Recursive Feature Elimination' : rfe_features\n",
    "}\n",
    "\n",
    "for feature_name , feature_set in feature_sets.items():\n",
    "    print('==================================')\n",
    "    print('Feature name :' , feature_name)\n",
    "    print('----------------------------------')\n",
    "\n",
    "    models = {\n",
    "        'Decision Tree': DecisionTreeClassifier(),\n",
    "        'Random Forest': RandomForestClassifier(),\n",
    "        'Gradient Boost': GradientBoostingClassifier(),\n",
    "        'Adaboost': AdaBoostClassifier(algorithm='SAMME')\n",
    "    }\n",
    "\n",
    "    for model_name, model in models.items():\n",
    "        model.fit(x_train[feature_set], y_train)\n",
    "        \n",
    "        # Make predictions\n",
    "        y_train_pred= model.predict(x_train[feature_set])\n",
    "        y_test_pred = model.predict(x_test[feature_set])\n",
    "        \n",
    "        # Training set performance\n",
    "        model_train_accuracy = accuracy_score(y_train, y_train_pred)\n",
    "        model_train_f1 = f1_score(y_train, y_train_pred, average='weighted')\n",
    "        model_train_precision = precision_score(y_train, y_train_pred, average='weighted')\n",
    "        model_train_recall = recall_score(y_train, y_train_pred, average='weighted')\n",
    "        model_train_rocauc_score = roc_auc_score(y_train, y_train_pred, multi_class='ovr')\n",
    "        \n",
    "        # Test set performance\n",
    "        model_test_accuracy = accuracy_score(y_test, y_test_pred)\n",
    "        model_test_f1 = f1_score(y_test, y_test_pred, average='weighted')\n",
    "        model_test_precision = precision_score(y_test, y_test_pred, average='weighted')\n",
    "        model_test_recall = recall_score(y_test, y_test_pred, average='weighted')\n",
    "        model_test_rocauc_score = roc_auc_score(y_test, y_test_pred, multi_class='ovr')\n",
    "        \n",
    "        print(model_name)\n",
    "        print('Model performance for Training set')\n",
    "        print(\"- Accuracy: {:.4f}\".format(model_train_accuracy))\n",
    "        print('- F1 score: {:.4f}'.format(model_train_f1))\n",
    "        print('- Precision: {:.4f}'.format(model_train_precision))\n",
    "        print('- Recall: {:.4f}'.format(model_train_recall))\n",
    "        print('- Roc Auc Score: {:.4f}'.format(model_train_rocauc_score))\n",
    "        print('----------------------------------')\n",
    "        print('Model performance for Test set')\n",
    "        print('- Accuracy: {:.4f}'.format(model_test_accuracy))\n",
    "        print('- F1 score: {:.4f}'.format(model_test_f1))\n",
    "        print('- Precision: {:.4f}'.format(model_test_precision))\n",
    "        print('- Recall: {:.4f}'.format(model_test_recall))\n",
    "        print('- Roc Auc Score: {:.4f}'.format(model_test_rocauc_score))\n",
    "        print('='*35)\n",
    "        print('\\n')\n"
   ]
  },
  {
   "cell_type": "markdown",
   "metadata": {},
   "source": [
    "- **Forward Feature Selection** - Gradient Boost Accuracy : 97.65 , ADABoost Accuracy : 97.43\n",
    "- **Recursive Feature Elimination** - Gradient Boost Accuracy : 97.52 (slight overfitting) , ADABoost Accuracy : 97.24"
   ]
  },
  {
   "cell_type": "markdown",
   "metadata": {},
   "source": [
    "So we will be considering **Forward Feature selection** as our feature selection set ."
   ]
  },
  {
   "cell_type": "code",
   "execution_count": 322,
   "metadata": {},
   "outputs": [
    {
     "name": "stdout",
     "output_type": "stream",
     "text": [
      "Gradient Boosting training time: 94.11 seconds\n",
      "Adaboost training time: 23.10 seconds\n"
     ]
    }
   ],
   "source": [
    "#Checking the run time of both gradient boost and ada boost algorithm\n",
    "\n",
    "import time \n",
    "\n",
    "#Gradient Boosting \n",
    "start_time = time.time()\n",
    "gradient_boost = GradientBoostingClassifier()\n",
    "gradient_boost.fit(x_train[fs_features] , y_train)\n",
    "gradient_boost_time = time.time() - start_time\n",
    "\n",
    "# Adaboost\n",
    "start_time = time.time()\n",
    "adaboost = AdaBoostClassifier(algorithm='SAMME')\n",
    "adaboost.fit(x_train[fs_features], y_train)\n",
    "adaboost_time = time.time() - start_time\n",
    "\n",
    "print(f\"Gradient Boosting training time: {gradient_boost_time:.2f} seconds\")\n",
    "print(f\"Adaboost training time: {adaboost_time:.2f} seconds\")\n"
   ]
  },
  {
   "cell_type": "code",
   "execution_count": 323,
   "metadata": {},
   "outputs": [
    {
     "data": {
      "image/png": "[encoded data removed]",
      "text/plain": [
       "<Figure size 640x480 with 1 Axes>"
      ]
     },
     "metadata": {},
     "output_type": "display_data"
    },
    {
     "data": {
      "image/png": "[encoded data removed]",
      "text/plain": [
       "<Figure size 640x480 with 1 Axes>"
      ]
     },
     "metadata": {},
     "output_type": "display_data"
    }
   ],
   "source": [
    "# Gradient Boosting Feature Importance\n",
    "gradient_boost_importance = gradient_boost.feature_importances_\n",
    "\n",
    "# Adaboost Feature Importance\n",
    "adaboost_importance = adaboost.feature_importances_\n",
    "\n",
    "# Plot feature importances for Gradient Boosting\n",
    "plt.bar(range(len(gradient_boost_importance)), gradient_boost_importance)\n",
    "plt.title('Gradient Boosting Feature Importances')\n",
    "plt.show()\n",
    "\n",
    "# Plot feature importances for Adaboost\n",
    "plt.bar(range(len(adaboost_importance)), adaboost_importance)\n",
    "plt.title('Adaboost Feature Importances')\n",
    "plt.show()"
   ]
  },
  {
   "cell_type": "markdown",
   "metadata": {},
   "source": [
    "### Conclusion\n",
    "\n",
    "- **Gradient Boosting & ADA Boosting** models show the most balanced performance between train & test sets , indicating they are less likely to be overfitting / underfitting . **Random Forest & Decision Tree** shows signs of overfitting .\n",
    "\n",
    "- **Forward Feature Selection** feature set is giving higher accuracy compared to other Feature sets\n",
    "\n",
    "- Considering the training time and interpretability of features we can see that **ADA Boost is generally faster and more easily interpretable**. Also **ADABoost** scales better with larger datasets due to its fast training time which allows us for quick iterations and model updates . It also provides better feature interpretability which allows us to make decisions based on feature selection ."
   ]
  },
  {
   "cell_type": "markdown",
   "metadata": {},
   "source": [
    "___"
   ]
  },
  {
   "cell_type": "markdown",
   "metadata": {},
   "source": [
    "## <center> Hyper Parameter Tuning </center>"
   ]
  },
  {
   "cell_type": "markdown",
   "metadata": {},
   "source": [
    "- **RandomSearchCV**"
   ]
  },
  {
   "cell_type": "code",
   "execution_count": 272,
   "metadata": {},
   "outputs": [
    {
     "name": "stdout",
     "output_type": "stream",
     "text": [
      "{'n_estimators': [50, 60, 70, 80, 90, 100, 150], 'learning_rate': [0.01, 0.1, 1], 'algorithm': ['SAMME', 'SAMME.R']}\n"
     ]
    }
   ],
   "source": [
    "ada_params = {\n",
    "    'n_estimators' : [50 , 60 , 70 , 80 , 90 , 100 , 150] , \n",
    "    'learning_rate' : [0.01 , 0.1 , 1] , \n",
    "    'algorithm' : ['SAMME' , 'SAMME.R']\n",
    "}\n",
    "print(ada_params)"
   ]
  },
  {
   "cell_type": "code",
   "execution_count": 324,
   "metadata": {},
   "outputs": [
    {
     "name": "stderr",
     "output_type": "stream",
     "text": [
      "C:\\Users\\10714194\\AppData\\Roaming\\Python\\Python312\\site-packages\\sklearn\\model_selection\\_search.py:320: UserWarning: The total space of parameters 42 is smaller than n_iter=100. Running 42 iterations. For exhaustive searches, use GridSearchCV.\n",
      "  warnings.warn(\n"
     ]
    },
    {
     "name": "stdout",
     "output_type": "stream",
     "text": [
      "Fitting 3 folds for each of 42 candidates, totalling 126 fits\n"
     ]
    },
    {
     "name": "stderr",
     "output_type": "stream",
     "text": [
      "C:\\Users\\10714194\\AppData\\Roaming\\Python\\Python312\\site-packages\\sklearn\\ensemble\\_weight_boosting.py:527: FutureWarning: The SAMME.R algorithm (the default) is deprecated and will be removed in 1.6. Use the SAMME algorithm to circumvent this warning.\n",
      "  warnings.warn(\n"
     ]
    },
    {
     "name": "stdout",
     "output_type": "stream",
     "text": [
      "{'n_estimators': 100, 'learning_rate': 1, 'algorithm': 'SAMME.R'}\n"
     ]
    }
   ],
   "source": [
    "#Since this is a larger dataset we will be using randomizedsearch cv\n",
    "\n",
    "from sklearn.model_selection import RandomizedSearchCV\n",
    "\n",
    "#Converting series to dataframe to join the data and extract sample\n",
    "y_df = pd.DataFrame(y_train)\n",
    "y_df.rename(columns={0:'Target'} , inplace=True)\n",
    "# Assuming x_train and y_train are pandas DataFrames or Series\n",
    "sampled_data = x_train[fs_features].join(y_df).sample(frac=0.2, random_state=42)\n",
    "x_train_subset = sampled_data.drop(columns=['Target'])\n",
    "y_train_subset = sampled_data['Target']\n",
    "ada_boost = AdaBoostClassifier()\n",
    "random = RandomizedSearchCV(estimator=ada_boost ,\n",
    "                            param_distributions=ada_params,\n",
    "                            n_iter=100,\n",
    "                            cv = 3,\n",
    "                            verbose=2 ,\n",
    "                            n_jobs= - 1, \n",
    "                            error_score='raise')\n",
    "random.fit(x_train_subset , y_train_subset)\n",
    "best_params = random.best_params_\n",
    "print(best_params)"
   ]
  },
  {
   "cell_type": "code",
   "execution_count": 325,
   "metadata": {},
   "outputs": [
    {
     "name": "stderr",
     "output_type": "stream",
     "text": [
      "C:\\Users\\10714194\\AppData\\Roaming\\Python\\Python312\\site-packages\\sklearn\\ensemble\\_weight_boosting.py:527: FutureWarning: The SAMME.R algorithm (the default) is deprecated and will be removed in 1.6. Use the SAMME algorithm to circumvent this warning.\n",
      "  warnings.warn(\n"
     ]
    },
    {
     "name": "stdout",
     "output_type": "stream",
     "text": [
      "Model performance for Training set\n",
      "- Accuracy: 0.9761\n",
      "- F1 score: 0.9768\n",
      "- Precision: 0.8298\n",
      "- Recall: 0.9391\n",
      "- Roc Auc Score: 0.9595\n",
      "----------------------------------\n",
      "Model performance for Test set\n",
      "- Accuracy: 0.9761\n",
      "- F1 score: 0.9768\n",
      "- Precision: 0.8287\n",
      "- Recall: 0.9412\n",
      "- Roc Auc Score: 0.9605\n",
      "===================================\n",
      "\n",
      "\n"
     ]
    }
   ],
   "source": [
    "#Using parameters of randomsearchcv for model training\n",
    "\n",
    "ada= AdaBoostClassifier(n_estimators=100 , learning_rate= 1 , algorithm='SAMME.R')\n",
    "ada.fit(x_train[fs_features] , y_train)\n",
    "y_train_fs = ada.predict(x_train[fs_features])\n",
    "y_test_fs = ada.predict(x_test[fs_features])\n",
    "\n",
    "# Train set performance\n",
    "model_train_accuracy = accuracy_score(y_train, y_train_fs) # Calculate Accuracy\n",
    "model_train_f1 = f1_score(y_train, y_train_fs, average='weighted') # Calculate F1-score\n",
    "model_train_precision = precision_score(y_train, y_train_fs) # Calculate Precision\n",
    "model_train_recall = recall_score(y_train, y_train_fs) # Calculate Recall\n",
    "model_train_rocauc_score = roc_auc_score(y_train, y_train_fs)\n",
    "\n",
    "\n",
    "# Test set performance\n",
    "model_test_accuracy = accuracy_score(y_test, y_test_fs) # Calculate Accuracy\n",
    "model_test_f1 = f1_score(y_test, y_test_fs, average='weighted') # Calculate F1-score\n",
    "model_test_precision = precision_score(y_test, y_test_fs) # Calculate Precision\n",
    "model_test_recall = recall_score(y_test, y_test_fs) # Calculate Recall\n",
    "model_test_rocauc_score = roc_auc_score(y_test, y_test_fs) #Calculate Roc\n",
    "\n",
    "print('Model performance for Training set')\n",
    "print(\"- Accuracy: {:.4f}\".format(model_train_accuracy))\n",
    "print('- F1 score: {:.4f}'.format(model_train_f1))\n",
    "    \n",
    "print('- Precision: {:.4f}'.format(model_train_precision))\n",
    "print('- Recall: {:.4f}'.format(model_train_recall))\n",
    "print('- Roc Auc Score: {:.4f}'.format(model_train_rocauc_score))\n",
    "\n",
    "print('----------------------------------')\n",
    "    \n",
    "print('Model performance for Test set')\n",
    "print('- Accuracy: {:.4f}'.format(model_test_accuracy))\n",
    "print('- F1 score: {:.4f}'.format(model_test_f1))\n",
    "print('- Precision: {:.4f}'.format(model_test_precision))\n",
    "print('- Recall: {:.4f}'.format(model_test_recall))\n",
    "print('- Roc Auc Score: {:.4f}'.format(model_test_rocauc_score))\n",
    "\n",
    "    \n",
    "print('='*35)\n",
    "print('\\n')\n",
    "    "
   ]
  },
  {
   "cell_type": "markdown",
   "metadata": {},
   "source": [
    "**RandomSearchCV** giving a better accuracy of 97.61 with its parameters"
   ]
  },
  {
   "cell_type": "markdown",
   "metadata": {},
   "source": [
    "- **Bayesian Optimization**"
   ]
  },
  {
   "cell_type": "code",
   "execution_count": 326,
   "metadata": {},
   "outputs": [
    {
     "name": "stderr",
     "output_type": "stream",
     "text": [
      "[I 2024-10-06 20:46:16,580] A new study created in memory with name: no-name-e82aada5-b86e-48ea-9300-781657491bcb\n"
     ]
    },
    {
     "name": "stderr",
     "output_type": "stream",
     "text": [
      "[I 2024-10-06 20:47:11,836] Trial 0 finished with value: 0.9638608995344485 and parameters: {'n_estimators': 60, 'learning_rate': 0.11771097627944141, 'algorithm': 'SAMME'}. Best is trial 0 with value: 0.9638608995344485.\n",
      "[I 2024-10-06 20:49:12,279] Trial 1 finished with value: 0.972719272290411 and parameters: {'n_estimators': 129, 'learning_rate': 0.23659278892330382, 'algorithm': 'SAMME'}. Best is trial 1 with value: 0.972719272290411.\n",
      "[I 2024-10-06 20:50:08,528] Trial 2 finished with value: 0.9731574137532416 and parameters: {'n_estimators': 59, 'learning_rate': 0.3749768693927819, 'algorithm': 'SAMME'}. Best is trial 2 with value: 0.9731574137532416.\n",
      "[I 2024-10-06 20:51:43,592] Trial 3 finished with value: 0.9734045053179148 and parameters: {'n_estimators': 99, 'learning_rate': 0.6257729910827361, 'algorithm': 'SAMME'}. Best is trial 3 with value: 0.9734045053179148.\n",
      "[I 2024-10-06 20:53:48,175] Trial 4 finished with value: 0.9729574478988967 and parameters: {'n_estimators': 129, 'learning_rate': 0.2488687300880031, 'algorithm': 'SAMME'}. Best is trial 3 with value: 0.9734045053179148.\n",
      "[I 2024-10-06 20:55:54,579] Trial 5 finished with value: 0.973689807715516 and parameters: {'n_estimators': 130, 'learning_rate': 0.4381217552999389, 'algorithm': 'SAMME'}. Best is trial 5 with value: 0.973689807715516.\n",
      "[I 2024-10-06 20:57:15,083] Trial 6 finished with value: 0.972650494033774 and parameters: {'n_estimators': 88, 'learning_rate': 0.22932398097169043, 'algorithm': 'SAMME'}. Best is trial 5 with value: 0.973689807715516.\n",
      "[I 2024-10-06 20:59:15,921] Trial 7 finished with value: 0.9729549006473842 and parameters: {'n_estimators': 129, 'learning_rate': 0.21041618804539408, 'algorithm': 'SAMME'}. Best is trial 5 with value: 0.973689807715516.\n",
      "[I 2024-10-06 21:01:24,678] Trial 8 finished with value: 0.9728784805875426 and parameters: {'n_estimators': 138, 'learning_rate': 0.24356032612963457, 'algorithm': 'SAMME'}. Best is trial 5 with value: 0.973689807715516.\n",
      "[I 2024-10-06 21:03:09,549] Trial 9 finished with value: 0.9638608995344485 and parameters: {'n_estimators': 114, 'learning_rate': 0.08833543345133298, 'algorithm': 'SAMME'}. Best is trial 5 with value: 0.973689807715516.\n"
     ]
    },
    {
     "name": "stdout",
     "output_type": "stream",
     "text": [
      "Best parameters: {'n_estimators': 130, 'learning_rate': 0.4381217552999389, 'algorithm': 'SAMME'}\n"
     ]
    }
   ],
   "source": [
    "#Bayesian Optimization\n",
    "\n",
    "def objective(trial):\n",
    "    n_estimators = trial.suggest_int('n_estimators', 50, 150)\n",
    "    learning_rate = trial.suggest_float('learning_rate', 0.01, 1.0, log=True)\n",
    "    algorithm = trial.suggest_categorical('algorithm', ['SAMME', 'SAMME'])\n",
    "    \n",
    "    model = AdaBoostClassifier(n_estimators=n_estimators, learning_rate=learning_rate, algorithm=algorithm)\n",
    "    return cross_val_score(model, x_train[fs_features], y_train, cv=5, n_jobs=-1).mean()\n",
    "\n",
    "study = optuna.create_study(direction='maximize')\n",
    "study.optimize(objective, n_trials=10) #will run 10 trials since the data is huge\n",
    "\n",
    "print(\"Best parameters:\", study.best_params)\n"
   ]
  },
  {
   "cell_type": "code",
   "execution_count": 327,
   "metadata": {},
   "outputs": [
    {
     "name": "stdout",
     "output_type": "stream",
     "text": [
      "Model performance for Training set\n",
      "- Accuracy: 0.9738\n",
      "- F1 score: 0.9747\n",
      "- Precision: 0.8103\n",
      "- Recall: 0.9426\n",
      "- Roc Auc Score: 0.9598\n",
      "----------------------------------\n",
      "Model performance for Test set\n",
      "- Accuracy: 0.9739\n",
      "- F1 score: 0.9748\n",
      "- Precision: 0.8099\n",
      "- Recall: 0.9445\n",
      "- Roc Auc Score: 0.9607\n",
      "===================================\n",
      "\n",
      "\n"
     ]
    }
   ],
   "source": [
    "#Using parameters of Bayesian Optimization for model training\n",
    "\n",
    "ada_bayesian= AdaBoostClassifier(n_estimators=130 , learning_rate= 0.4381217552999389, algorithm='SAMME')\n",
    "ada_bayesian.fit(x_train[fs_features] , y_train)\n",
    "y_train_hp = ada_bayesian.predict(x_train[fs_features])\n",
    "y_test_hp = ada_bayesian.predict(x_test[fs_features])\n",
    "\n",
    "# Train set performance\n",
    "model_train_accuracy = accuracy_score(y_train, y_train_hp) # Calculate Accuracy\n",
    "model_train_f1 = f1_score(y_train, y_train_hp, average='weighted') # Calculate F1-score\n",
    "model_train_precision = precision_score(y_train, y_train_hp) # Calculate Precision\n",
    "model_train_recall = recall_score(y_train, y_train_hp) # Calculate Recall\n",
    "model_train_rocauc_score = roc_auc_score(y_train, y_train_hp)\n",
    "\n",
    "\n",
    "# Test set performance\n",
    "model_test_accuracy = accuracy_score(y_test, y_test_hp) # Calculate Accuracy\n",
    "model_test_f1 = f1_score(y_test, y_test_hp, average='weighted') # Calculate F1-score\n",
    "model_test_precision = precision_score(y_test, y_test_hp) # Calculate Precision\n",
    "model_test_recall = recall_score(y_test, y_test_hp) # Calculate Recall\n",
    "model_test_rocauc_score = roc_auc_score(y_test, y_test_hp) #Calculate Roc\n",
    "\n",
    "print('Model performance for Training set')\n",
    "print(\"- Accuracy: {:.4f}\".format(model_train_accuracy))\n",
    "print('- F1 score: {:.4f}'.format(model_train_f1))\n",
    "    \n",
    "print('- Precision: {:.4f}'.format(model_train_precision))\n",
    "print('- Recall: {:.4f}'.format(model_train_recall))\n",
    "print('- Roc Auc Score: {:.4f}'.format(model_train_rocauc_score))\n",
    "\n",
    "print('----------------------------------')\n",
    "    \n",
    "print('Model performance for Test set')\n",
    "print('- Accuracy: {:.4f}'.format(model_test_accuracy))\n",
    "print('- F1 score: {:.4f}'.format(model_test_f1))\n",
    "print('- Precision: {:.4f}'.format(model_test_precision))\n",
    "print('- Recall: {:.4f}'.format(model_test_recall))\n",
    "print('- Roc Auc Score: {:.4f}'.format(model_test_rocauc_score))\n",
    "\n",
    "    \n",
    "print('='*35)\n",
    "print('\\n')\n",
    "    "
   ]
  },
  {
   "cell_type": "markdown",
   "metadata": {},
   "source": [
    "- **Since the RandomSearchCV parameters are giving better results we will go with its parameters**\n",
    "- **We will be using ADA-Boost model and RandomSearchCV for our predictive model :**  \n",
    "  {n_estimators=100 , learning_rate= 1 , algorithm='SAMME.R'} "
   ]
  },
  {
   "cell_type": "markdown",
   "metadata": {},
   "source": [
    "___"
   ]
  },
  {
   "cell_type": "markdown",
   "metadata": {},
   "source": [
    "## <center>Check for OverFitting</center>"
   ]
  },
  {
   "cell_type": "markdown",
   "metadata": {},
   "source": [
    "### Cross Validation :"
   ]
  },
  {
   "cell_type": "code",
   "execution_count": 328,
   "metadata": {},
   "outputs": [
    {
     "name": "stdout",
     "output_type": "stream",
     "text": [
      "Cross-Validation Accuracy Scores: [0.97403011 0.97383906 0.97390274 0.97336747 0.97317642 0.97392788\n",
      " 0.97276884 0.97427178 0.97462841 0.97527798]\n",
      "Mean Accuracy: 0.9739190684703001\n",
      "Standard Deviation: 0.000683527271147606\n"
     ]
    }
   ],
   "source": [
    "from sklearn.model_selection import cross_val_score\n",
    "from sklearn.model_selection import KFold\n",
    "\n",
    "cv_model  = AdaBoostClassifier(n_estimators=100 , learning_rate= 1 , algorithm='SAMME')\n",
    "\n",
    "#defining kfold cross validator \n",
    "kf = KFold(n_splits = 10, shuffle=True , random_state=42)\n",
    "\n",
    "#perform cross validation\n",
    "scores = cross_val_score(cv_model , x_train[fs_features] , y_train , cv = kf , scoring='accuracy')\n",
    "\n",
    "\n",
    "# Print the results\n",
    "print(f'Cross-Validation Accuracy Scores: {scores}')\n",
    "print(f'Mean Accuracy: {scores.mean()}')\n",
    "print(f'Standard Deviation: {scores.std()}')"
   ]
  },
  {
   "cell_type": "markdown",
   "metadata": {},
   "source": [
    "- **Mean Accuracy** is 0.974 and **Standard Deviation** is 0.00066\n",
    "- ***High Mean Accuracy suggests that the model has maintained a high level of accuracy across all folds***\n",
    "- ***Low Standard Deviation suggests that the performance is stable and not varying much betweem subsets of the data***\n",
    "\n",
    "- *This is a strong sign the model is not overfitting & is generalizing well to unseen data*"
   ]
  },
  {
   "cell_type": "markdown",
   "metadata": {},
   "source": [
    "### Validation Set:"
   ]
  },
  {
   "cell_type": "code",
   "execution_count": 329,
   "metadata": {},
   "outputs": [
    {
     "name": "stderr",
     "output_type": "stream",
     "text": [
      "C:\\Users\\10714194\\AppData\\Roaming\\Python\\Python312\\site-packages\\sklearn\\base.py:493: UserWarning: X does not have valid feature names, but AdaBoostClassifier was fitted with feature names\n",
      "  warnings.warn(\n"
     ]
    },
    {
     "name": "stdout",
     "output_type": "stream",
     "text": [
      "Validation Accuracy: 0.9734376890598432\n"
     ]
    }
   ],
   "source": [
    "from sklearn.model_selection import train_test_split\n",
    "\n",
    "# Split the training data into training and validation sets\n",
    "x_train_v, X_val, y_train_v, y_val = train_test_split(x_train[fs_features], y_train, test_size=0.2, random_state=42)\n",
    "\n",
    "# Initialize and train the model\n",
    "model = AdaBoostClassifier(n_estimators=80 , learning_rate= 1 , algorithm='SAMME' , random_state=42)\n",
    "model.fit(x_train_v, y_train_v)\n",
    "\n",
    "# Ensure the validation data is clean\n",
    "imputer = SimpleImputer(strategy='mean')\n",
    "X_val = imputer.fit_transform(X_val)\n",
    "\n",
    "val_pred = model.predict(X_val)\n",
    "val_accuracy = accuracy_score(y_val, val_pred)\n",
    "print(f'Validation Accuracy: {val_accuracy}')"
   ]
  },
  {
   "cell_type": "markdown",
   "metadata": {},
   "source": [
    "- **Validation accuracy - 0.9694** indicates that our model is performing well on validation set . The high accuracy suggests that the model isnt overfitting and is able to perform well on unseen data as well .\n",
    "\n",
    "- **We can conclude that the model isnt overfitting**"
   ]
  },
  {
   "cell_type": "markdown",
   "metadata": {},
   "source": [
    "___"
   ]
  },
  {
   "cell_type": "markdown",
   "metadata": {},
   "source": [
    "## <center>MODEL SIMPLIFICATION</center>"
   ]
  },
  {
   "cell_type": "markdown",
   "metadata": {},
   "source": [
    "Here we will be removing features with zero importance which offer several advantages while handling large datasets . \n",
    "\n",
    "- **Reduced complexity also faster training and prediction**\n",
    "- **Simplified data preprocessing & Enhances Robustness**\n",
    "- **Easier to explain and Better insights**\n",
    "\n",
    "Removing features streamlines your model , making it more efficient , interpretable & robust ."
   ]
  },
  {
   "cell_type": "code",
   "execution_count": 342,
   "metadata": {},
   "outputs": [
    {
     "data": {
      "text/plain": [
       "array([0.58930127, 0.04437721, 0.35682907, 0.00949245, 0.        ,\n",
       "       0.        , 0.        , 0.        , 0.        , 0.        ,\n",
       "       0.        , 0.        ])"
      ]
     },
     "execution_count": 342,
     "metadata": {},
     "output_type": "execute_result"
    }
   ],
   "source": [
    "adaboost_importance"
   ]
  },
  {
   "cell_type": "code",
   "execution_count": 345,
   "metadata": {},
   "outputs": [],
   "source": [
    "simp_features = ['Column18','Column7','Column1','Column3']"
   ]
  },
  {
   "cell_type": "code",
   "execution_count": 346,
   "metadata": {},
   "outputs": [
    {
     "name": "stdout",
     "output_type": "stream",
     "text": [
      "Model performance for Training set\n",
      "- Accuracy: 0.9738\n",
      "- F1 score: 0.9747\n",
      "- Precision: 0.8103\n",
      "- Recall: 0.9426\n",
      "- Roc Auc Score: 0.9598\n",
      "----------------------------------\n",
      "Model performance for Test set\n",
      "- Accuracy: 0.9739\n",
      "- F1 score: 0.9748\n",
      "- Precision: 0.8099\n",
      "- Recall: 0.9445\n",
      "- Roc Auc Score: 0.9607\n",
      "===================================\n",
      "\n",
      "\n"
     ]
    }
   ],
   "source": [
    "#Using parameters of Bayesian Optimization for model training\n",
    "\n",
    "ada_bayesian= AdaBoostClassifier(n_estimators=130 , learning_rate= 0.4381217552999389, algorithm='SAMME')\n",
    "ada_bayesian.fit(x_train[simp_features] , y_train)\n",
    "y_train_hp = ada_bayesian.predict(x_train[simp_features])\n",
    "y_test_hp = ada_bayesian.predict(x_test[simp_features])\n",
    "\n",
    "# Train set performance\n",
    "model_train_accuracy = accuracy_score(y_train, y_train_hp) # Calculate Accuracy\n",
    "model_train_f1 = f1_score(y_train, y_train_hp, average='weighted') # Calculate F1-score\n",
    "model_train_precision = precision_score(y_train, y_train_hp) # Calculate Precision\n",
    "model_train_recall = recall_score(y_train, y_train_hp) # Calculate Recall\n",
    "model_train_rocauc_score = roc_auc_score(y_train, y_train_hp)\n",
    "\n",
    "\n",
    "# Test set performance\n",
    "model_test_accuracy = accuracy_score(y_test, y_test_hp) # Calculate Accuracy\n",
    "model_test_f1 = f1_score(y_test, y_test_hp, average='weighted') # Calculate F1-score\n",
    "model_test_precision = precision_score(y_test, y_test_hp) # Calculate Precision\n",
    "model_test_recall = recall_score(y_test, y_test_hp) # Calculate Recall\n",
    "model_test_rocauc_score = roc_auc_score(y_test, y_test_hp) #Calculate Roc\n",
    "\n",
    "print('Model performance for Training set')\n",
    "print(\"- Accuracy: {:.4f}\".format(model_train_accuracy))\n",
    "print('- F1 score: {:.4f}'.format(model_train_f1))\n",
    "    \n",
    "print('- Precision: {:.4f}'.format(model_train_precision))\n",
    "print('- Recall: {:.4f}'.format(model_train_recall))\n",
    "print('- Roc Auc Score: {:.4f}'.format(model_train_rocauc_score))\n",
    "\n",
    "print('----------------------------------')\n",
    "    \n",
    "print('Model performance for Test set')\n",
    "print('- Accuracy: {:.4f}'.format(model_test_accuracy))\n",
    "print('- F1 score: {:.4f}'.format(model_test_f1))\n",
    "print('- Precision: {:.4f}'.format(model_test_precision))\n",
    "print('- Recall: {:.4f}'.format(model_test_recall))\n",
    "print('- Roc Auc Score: {:.4f}'.format(model_test_rocauc_score))\n",
    "\n",
    "    \n",
    "print('='*35)\n",
    "print('\\n')\n",
    "    "
   ]
  },
  {
   "cell_type": "markdown",
   "metadata": {},
   "source": [
    "___"
   ]
  }
 ],
 "metadata": {
  "kernelspec": {
   "display_name": "Python 3",
   "language": "python",
   "name": "python3"
  },
  "language_info": {
   "codemirror_mode": {
    "name": "ipython",
    "version": 3
   },
   "file_extension": ".py",
   "mimetype": "text/x-python",
   "name": "python",
   "nbconvert_exporter": "python",
   "pygments_lexer": "ipython3",
   "version": "3.12.5"
  }
 },
 "nbformat": 4,
 "nbformat_minor": 2
}
